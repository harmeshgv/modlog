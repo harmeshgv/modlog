{
 "cells": [
  {
   "cell_type": "code",
   "execution_count": 1,
   "id": "945ef8bc",
   "metadata": {},
   "outputs": [],
   "source": [
    "from ml_tracker.logger import Experiment"
   ]
  },
  {
   "cell_type": "code",
   "execution_count": null,
   "id": "c2aeafd4",
   "metadata": {},
   "outputs": [],
   "source": []
  },
  {
   "cell_type": "code",
   "execution_count": null,
   "id": "043bd7d5",
   "metadata": {},
   "outputs": [],
   "source": []
  }
 ],
 "metadata": {
  "kernelspec": {
   "display_name": "venv",
   "language": "python",
   "name": "python3"
  },
  "language_info": {
   "codemirror_mode": {
    "name": "ipython",
    "version": 3
   },
   "file_extension": ".py",
   "mimetype": "text/x-python",
   "name": "python",
   "nbconvert_exporter": "python",
   "pygments_lexer": "ipython3",
   "version": "3.9.23"
  }
 },
 "nbformat": 4,
 "nbformat_minor": 5
}
