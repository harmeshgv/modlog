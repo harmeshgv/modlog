{
 "cells": [
  {
   "cell_type": "code",
   "execution_count": 1,
   "id": "945ef8bc",
   "metadata": {},
   "outputs": [
    {
     "name": "stdout",
     "output_type": "stream",
     "text": [
      "Package Import Works\n"
     ]
    }
   ],
   "source": [
    "from ml_tracker.logger import Experiment\n",
    "print(\"Package Import Works\")"
   ]
  },
  {
   "cell_type": "code",
   "execution_count": 4,
   "id": "c2aeafd4",
   "metadata": {},
   "outputs": [],
   "source": [
    "lr_tracker = Experiment(\"logistic\")"
   ]
  },
  {
   "cell_type": "code",
   "execution_count": 6,
   "id": "043bd7d5",
   "metadata": {},
   "outputs": [
    {
     "name": "stdout",
     "output_type": "stream",
     "text": [
      "params logged in perfectly\n"
     ]
    },
    {
     "data": {
      "text/plain": [
       "True"
      ]
     },
     "execution_count": 6,
     "metadata": {},
     "output_type": "execute_result"
    }
   ],
   "source": [
    "lr_tracker.log_params({\n",
    "    \"algorithm\": \"LinearRegression\",\n",
    "    \"fit_intercept\": True,\n",
    "    \"normalize\": False,\n",
    "    \"random_state\": 42\n",
    "}, \"002\"\n",
    ")"
   ]
  },
  {
   "cell_type": "code",
   "execution_count": null,
   "id": "ea7d818a",
   "metadata": {},
   "outputs": [],
   "source": []
  }
 ],
 "metadata": {
  "kernelspec": {
   "display_name": "venv",
   "language": "python",
   "name": "python3"
  },
  "language_info": {
   "codemirror_mode": {
    "name": "ipython",
    "version": 3
   },
   "file_extension": ".py",
   "mimetype": "text/x-python",
   "name": "python",
   "nbconvert_exporter": "python",
   "pygments_lexer": "ipython3",
   "version": "3.9.23"
  }
 },
 "nbformat": 4,
 "nbformat_minor": 5
}
