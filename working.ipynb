{
 "cells": [
  {
   "cell_type": "code",
   "execution_count": 2,
   "id": "945ef8bc",
   "metadata": {},
   "outputs": [
    {
     "name": "stdout",
     "output_type": "stream",
     "text": [
      "Package Import Works\n"
     ]
    }
   ],
   "source": [
    "from ml_tracker.experiment import Experiment\n",
    "print(\"Package Import Works\")\n"
   ]
  },
  {
   "cell_type": "code",
   "execution_count": 3,
   "id": "c2aeafd4",
   "metadata": {},
   "outputs": [],
   "source": [
    "lr_tracker = Experiment(\"logistic\")\n"
   ]
  },
  {
   "cell_type": "code",
   "execution_count": 4,
   "id": "043bd7d5",
   "metadata": {},
   "outputs": [],
   "source": [
    "lr = lr_tracker.start_run(\"low_scale\")\n",
    "\n",
    "\n",
    "lr1 = lr_tracker.start_run(\"low_scale1\")"
   ]
  },
  {
   "cell_type": "code",
   "execution_count": 5,
   "id": "ea7d818a",
   "metadata": {},
   "outputs": [
    {
     "data": {
      "text/plain": [
       "<bound method RUN.log_params of <ml_tracker.run.RUN object at 0x72c946f8d880>>"
      ]
     },
     "execution_count": 5,
     "metadata": {},
     "output_type": "execute_result"
    }
   ],
   "source": [
    "lr.log_params"
   ]
  },
  {
   "cell_type": "code",
   "execution_count": null,
   "id": "2f0a13a4",
   "metadata": {},
   "outputs": [],
   "source": []
  }
 ],
 "metadata": {
  "kernelspec": {
   "display_name": "venv",
   "language": "python",
   "name": "python3"
  },
  "language_info": {
   "codemirror_mode": {
    "name": "ipython",
    "version": 3
   },
   "file_extension": ".py",
   "mimetype": "text/x-python",
   "name": "python",
   "nbconvert_exporter": "python",
   "pygments_lexer": "ipython3",
   "version": "3.9.23"
  }
 },
 "nbformat": 4,
 "nbformat_minor": 5
}
